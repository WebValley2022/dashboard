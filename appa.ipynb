{
 "cells": [
  {
   "cell_type": "code",
   "execution_count": 1,
   "metadata": {},
   "outputs": [],
   "source": [
    "import pandas as pd\n",
    "import numpy as np\n",
    "from matplotlib import pyplot as plt\n",
    "import seaborn as sns"
   ]
  },
  {
   "cell_type": "code",
   "execution_count": 8,
   "metadata": {},
   "outputs": [
    {
     "data": {
      "text/html": [
       "<div>\n",
       "<style scoped>\n",
       "    .dataframe tbody tr th:only-of-type {\n",
       "        vertical-align: middle;\n",
       "    }\n",
       "\n",
       "    .dataframe tbody tr th {\n",
       "        vertical-align: top;\n",
       "    }\n",
       "\n",
       "    .dataframe thead th {\n",
       "        text-align: right;\n",
       "    }\n",
       "</style>\n",
       "<table border=\"1\" class=\"dataframe\">\n",
       "  <thead>\n",
       "    <tr style=\"text-align: right;\">\n",
       "      <th></th>\n",
       "      <th>Stazione</th>\n",
       "      <th>Inquinante</th>\n",
       "      <th>Data</th>\n",
       "      <th>Ora</th>\n",
       "      <th>Valore</th>\n",
       "      <th>Unità di misura</th>\n",
       "    </tr>\n",
       "  </thead>\n",
       "  <tbody>\n",
       "    <tr>\n",
       "      <th>0</th>\n",
       "      <td>Parco S. Chiara</td>\n",
       "      <td>PM10</td>\n",
       "      <td>2022-06-26</td>\n",
       "      <td>1</td>\n",
       "      <td>18</td>\n",
       "      <td>µg/mc</td>\n",
       "    </tr>\n",
       "    <tr>\n",
       "      <th>1</th>\n",
       "      <td>Parco S. Chiara</td>\n",
       "      <td>PM10</td>\n",
       "      <td>2022-06-26</td>\n",
       "      <td>2</td>\n",
       "      <td>17</td>\n",
       "      <td>µg/mc</td>\n",
       "    </tr>\n",
       "    <tr>\n",
       "      <th>2</th>\n",
       "      <td>Parco S. Chiara</td>\n",
       "      <td>PM10</td>\n",
       "      <td>2022-06-26</td>\n",
       "      <td>3</td>\n",
       "      <td>17</td>\n",
       "      <td>µg/mc</td>\n",
       "    </tr>\n",
       "    <tr>\n",
       "      <th>3</th>\n",
       "      <td>Parco S. Chiara</td>\n",
       "      <td>PM10</td>\n",
       "      <td>2022-06-26</td>\n",
       "      <td>4</td>\n",
       "      <td>16</td>\n",
       "      <td>µg/mc</td>\n",
       "    </tr>\n",
       "    <tr>\n",
       "      <th>4</th>\n",
       "      <td>Parco S. Chiara</td>\n",
       "      <td>PM10</td>\n",
       "      <td>2022-06-26</td>\n",
       "      <td>5</td>\n",
       "      <td>17</td>\n",
       "      <td>µg/mc</td>\n",
       "    </tr>\n",
       "  </tbody>\n",
       "</table>\n",
       "</div>"
      ],
      "text/plain": [
       "          Stazione Inquinante        Data  Ora Valore Unità di misura\n",
       "0  Parco S. Chiara       PM10  2022-06-26    1     18           µg/mc\n",
       "1  Parco S. Chiara       PM10  2022-06-26    2     17           µg/mc\n",
       "2  Parco S. Chiara       PM10  2022-06-26    3     17           µg/mc\n",
       "3  Parco S. Chiara       PM10  2022-06-26    4     16           µg/mc\n",
       "4  Parco S. Chiara       PM10  2022-06-26    5     17           µg/mc"
      ]
     },
     "execution_count": 8,
     "metadata": {},
     "output_type": "execute_result"
    }
   ],
   "source": [
    "df = pd.read_csv('appa_data_26-07-2022.csv', encoding='windows-1252')\n",
    "df.head()"
   ]
  },
  {
   "cell_type": "code",
   "execution_count": null,
   "metadata": {},
   "outputs": [],
   "source": []
  }
 ],
 "metadata": {
  "kernelspec": {
   "display_name": "Python 3.10.4 64-bit",
   "language": "python",
   "name": "python3"
  },
  "language_info": {
   "codemirror_mode": {
    "name": "ipython",
    "version": 3
   },
   "file_extension": ".py",
   "mimetype": "text/x-python",
   "name": "python",
   "nbconvert_exporter": "python",
   "pygments_lexer": "ipython3",
   "version": "3.10.4"
  },
  "orig_nbformat": 4,
  "vscode": {
   "interpreter": {
    "hash": "916dbcbb3f70747c44a77c7bcd40155683ae19c65e1c03b4aa3499c5328201f1"
   }
  }
 },
 "nbformat": 4,
 "nbformat_minor": 2
}
