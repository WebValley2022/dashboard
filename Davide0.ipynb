{
 "cells": [
  {
   "cell_type": "markdown",
   "metadata": {},
   "source": [
    "**Viva la patanella**"
   ]
  },
  {
   "cell_type": "markdown",
   "metadata": {},
   "source": [
    "Import required modules"
   ]
  },
  {
   "cell_type": "code",
   "execution_count": null,
   "metadata": {},
   "outputs": [],
   "source": [
    "import pandas as pd\n",
    "import numpy as np\n",
    "import matplotlib.pyplot as plt"
   ]
  },
  {
   "cell_type": "code",
   "execution_count": null,
   "metadata": {},
   "outputs": [],
   "source": [
    "df = pd.read_csv('data/merged_APPA_data.csv')\n",
    "df.Data = pd.to_datetime(df.Data)"
   ]
  },
  {
   "cell_type": "code",
   "execution_count": null,
   "metadata": {},
   "outputs": [],
   "source": [
    "def subdf(df, pollutant, station):\n",
    "    mask = (df.Inquinante == pollutant) & (df.Stazione == station)\n",
    "    subdf = df[mask]\n",
    "\n",
    "    return subdf\n",
    "\n",
    "def compress_data(df, resample_rule):\n",
    "    df_mean = df.resample(resample_rule, on='Data').mean()\n",
    "    df_mean = df_mean.reset_index()\n",
    "    return df_mean\n",
    "\n",
    "def plot_ewm(df, ax, span):\n",
    "    df_smooth = df.Valore.ewm(span=span).mean()\n",
    "    ax.plot(df.Data, df.Valore, linewidth=1, color=\"blue\")  # normal\n",
    "    ax.plot(df.Data, df_smooth, color=\"#ff0000\", linewidth=3)  # smoothed\n",
    "    # ax.plot(df.Data, np.full(df.shape[0], df.Valore.mean()), ls=\"--\", color=\"black\", linewidth=3)  # average dotted line\n",
    "    ax.legend([\"Value\", \"Smoothed\", \"Mean\"])"
   ]
  },
  {
   "cell_type": "code",
   "execution_count": null,
   "metadata": {},
   "outputs": [],
   "source": [
    "stations = ['Monte Gaza', 'Riva del Garda', 'Parco S. Chiara', 'Piana Rotaliana', 'Rovereto', 'Via Bolzano', 'A22 (Avio)', 'Borgo Valsugana']\n",
    "threshold = {'PM10': [36, 50], \n",
    "             'Biossido di Azoto': [101, 200], \n",
    "             'Ozono': [121, 180], \n",
    "             'PM2.5': [201, 350], \n",
    "             'Ossido di Carbonio': [7.6, 10], \n",
    "             'Biossido Zolfo': [201, 350]}"
   ]
  },
  {
   "cell_type": "markdown",
   "metadata": {},
   "source": [
    "Plot multiple subplots with pollutant daily concentration and exponential weighted moving average."
   ]
  },
  {
   "cell_type": "code",
   "execution_count": null,
   "metadata": {},
   "outputs": [],
   "source": [
    "for i, station in enumerate(stations):\n",
    "    pollutants = df[df.Stazione == station].Inquinante.unique()\n",
    "    fig, ax = plt.subplots(nrows=len(pollutants), ncols=1, figsize=(20, 10*len(pollutants)))\n",
    "    for j, pollutant in enumerate(pollutants):\n",
    "        df_pollutant_station = subdf(df, pollutant, station)\n",
    "        if df_pollutant_station.shape[0] > 2:\n",
    "            new_df_compressed = compress_data(df_pollutant_station, 'D')\n",
    "            ax[j].title.set_text(f\"{station} - {pollutant} - daily mean - 120 day moving average span\")\n",
    "            plot_ewm(new_df_compressed, ax[j], 120)\n",
    "\n",
    "            not_only_green = new_df_compressed.Valore.max() > threshold[pollutant][0]\n",
    "            y_max_green = min(new_df_compressed.Valore.max(), threshold[pollutant][0])\n",
    "            y_max_green *= 1.08 if not not_only_green else 1  # adds some space at the top if there is only green\n",
    "            ax[j].axhspan(0, y_max_green, color='#00ff00', alpha=0.7, zorder=-100)\n",
    "\n",
    "            if not_only_green:\n",
    "                ax[j].axhspan(threshold[pollutant][0], threshold[pollutant][1], color='#ff0', alpha=0.7, zorder=-100)\n",
    "                ax[j].axhspan(threshold[pollutant][1]+.001, max(new_df_compressed.Valore.max()+10, threshold[pollutant][1]), color='#ed0800', alpha=0.7, zorder=-100)"
   ]
  },
  {
   "cell_type": "code",
   "execution_count": null,
   "metadata": {},
   "outputs": [],
   "source": [
    "\n",
    "plt.show()"
   ]
  }
 ],
 "metadata": {
  "kernelspec": {
   "display_name": "Python 3.10.5 64-bit",
   "language": "python",
   "name": "python3"
  },
  "language_info": {
   "codemirror_mode": {
    "name": "ipython",
    "version": 3
   },
   "file_extension": ".py",
   "mimetype": "text/x-python",
   "name": "python",
   "nbconvert_exporter": "python",
   "pygments_lexer": "ipython3",
   "version": "3.10.4"
  },
  "orig_nbformat": 4,
  "vscode": {
   "interpreter": {
    "hash": "97cc609b13305c559618ec78a438abc56230b9381f827f22d070313b9a1f3777"
   }
  }
 },
 "nbformat": 4,
 "nbformat_minor": 2
}
