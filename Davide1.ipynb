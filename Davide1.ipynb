{
 "cells": [
  {
   "cell_type": "code",
   "execution_count": null,
   "metadata": {},
   "outputs": [],
   "source": [
    "import pandas as pd\n",
    "import numpy as np\n",
    "from matplotlib import pyplot as plt\n",
    "import seaborn as sns"
   ]
  },
  {
   "cell_type": "code",
   "execution_count": null,
   "metadata": {},
   "outputs": [],
   "source": [
    "import altair as alt\n",
    "\n",
    "#-------input------------\n",
    "Stazione = \"A22 (Avio)\"\n",
    "Anno = \"2017\"\n",
    "\n",
    "\n",
    "#------------Calcolo--------------------\n",
    "DataInizioAnno = Anno + \"-01-01\"\n",
    "DataFineAnno = Anno + \"-12-31\"\n",
    "\n",
    "dfFull = pd.read_csv('APPA data merged.csv', encoding='windows-1252')\n",
    "dfStazione = dfFull[dfFull.Stazione == Stazione]\n",
    "dfStazione = dfStazione[DataInizioAnno <= dfFull.Data]\n",
    "dfStazione = dfStazione[dfFull.Data <= DataFineAnno]\n",
    "\n",
    "dfStazione = dfStazione[dfStazione.Valore != \"n.d.\"]\n",
    "dfStazione[\"Valore\"] = dfStazione[\"Valore\"].astype(float)\n",
    "\n",
    "dfStazioneDaily = dfStazione.groupby([\"Data\", \"Inquinante\"]).mean()\n",
    "\n",
    "dfStazioneDaily = dfStazioneDaily.reset_index()\n",
    "\n",
    "\n",
    "#-----------output----------------------------------\n",
    "alt.Chart(dfStazioneDaily).mark_line().encode(\n",
    "    x='Data',\n",
    "    y='Valore',\n",
    "    color='Inquinante'\n",
    "    )"
   ]
  }
 ],
 "metadata": {
  "kernelspec": {
   "display_name": "Python 3.10.5 64-bit",
   "language": "python",
   "name": "python3"
  },
  "language_info": {
   "name": "python",
   "version": "3.10.5"
  },
  "orig_nbformat": 4,
  "vscode": {
   "interpreter": {
    "hash": "97cc609b13305c559618ec78a438abc56230b9381f827f22d070313b9a1f3777"
   }
  }
 },
 "nbformat": 4,
 "nbformat_minor": 2
}
